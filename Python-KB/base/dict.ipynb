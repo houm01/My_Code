{
 "metadata": {
  "language_info": {
   "codemirror_mode": {
    "name": "ipython",
    "version": 3
   },
   "file_extension": ".py",
   "mimetype": "text/x-python",
   "name": "python",
   "nbconvert_exporter": "python",
   "pygments_lexer": "ipython3",
   "version": "3.8.6-final"
  },
  "orig_nbformat": 2,
  "kernelspec": {
   "name": "python3",
   "display_name": "Python 3",
   "language": "python"
  }
 },
 "nbformat": 4,
 "nbformat_minor": 2,
 "cells": [
  {
   "source": [
    "# 修改与del\n",
    "D = {'eggs': 3, 'ham': 1, 'span': 2}\n",
    "\n",
    "# 原处修改字典\n",
    "D['ham'] = ['grill', 'bake', 'fry']\n",
    "print('原处修改字典')\n",
    "print(D)\n",
    "\n",
    "# 删除字典的元素\n",
    "del D['eggs']\n",
    "print('\\n' + '删除字典的元素')\n",
    "print(D)"
   ],
   "cell_type": "code",
   "metadata": {},
   "execution_count": 15,
   "outputs": [
    {
     "output_type": "stream",
     "name": "stdout",
     "text": [
      "原处修改字典\n{'eggs': 3, 'ham': ['grill', 'bake', 'fry'], 'span': 2}\n\n删除字典的元素\n{'ham': ['grill', 'bake', 'fry'], 'span': 2}\n"
     ]
    }
   ]
  },
  {
   "cell_type": "code",
   "execution_count": 19,
   "metadata": {},
   "outputs": [
    {
     "output_type": "stream",
     "name": "stdout",
     "text": [
      "返回所有value\n[3, 1, 2]\n\nitems方法，返回字典的值列表和 key value 元组\n[('eggs', 3), ('ham', 1), ('span', 2)]\n"
     ]
    }
   ],
   "source": [
    "# items + value\n",
    "D = {'eggs': 3, 'ham': 1, 'span': 2}\n",
    "\n",
    "print('返回所有value')\n",
    "print(list(D.values()))\n",
    "\n",
    "print('\\n' + 'items方法，返回字典的值列表和 key value 元组')\n",
    "print(list(D.items()))"
   ]
  },
  {
   "cell_type": "code",
   "execution_count": 22,
   "metadata": {},
   "outputs": [
    {
     "output_type": "stream",
     "name": "stdout",
     "text": [
      "3\n\n获取不存在的值\nNone\n\n获取不存在的值，但是填写默认value\ndefault key\n"
     ]
    }
   ],
   "source": [
    "# get 方法\n",
    "D = {'eggs': 3, 'ham': 1, 'span': 2}\n",
    "\n",
    "print(D.get('eggs'))\n",
    "\n",
    "print('\\n' + '获取不存在的值')\n",
    "print(D.get('test'))\n",
    "\n",
    "print('\\n' + '获取不存在的值，但是填写默认value')\n",
    "print(D.get('demo', 'default key'))\n"
   ]
  },
  {
   "cell_type": "code",
   "execution_count": 23,
   "metadata": {},
   "outputs": [
    {
     "output_type": "execute_result",
     "data": {
      "text/plain": [
       "{'eggs': 3, 'ham': 1, 'span': 2, 'toast': 4, 'muffin': 5}"
      ]
     },
     "metadata": {},
     "execution_count": 23
    }
   ],
   "source": [
    "# update 方法\n",
    "\n",
    "D = {'eggs': 3, 'ham': 1, 'span': 2}\n",
    "D2 = {'toast': 4, 'muffin': 5}\n",
    "\n",
    "D.update(D2)\n",
    "\n",
    "D"
   ]
  },
  {
   "cell_type": "code",
   "execution_count": 24,
   "metadata": {},
   "outputs": [
    {
     "output_type": "execute_result",
     "data": {
      "text/plain": [
       "{'ham': 1, 'span': 2}"
      ]
     },
     "metadata": {},
     "execution_count": 24
    }
   ],
   "source": [
    "# pop\n",
    "D = {'eggs': 3, 'ham': 1, 'span': 2}\n",
    "D.pop('eggs')\n",
    "D"
   ]
  },
  {
   "cell_type": "code",
   "execution_count": 27,
   "metadata": {},
   "outputs": [
    {
     "output_type": "stream",
     "name": "stdout",
     "text": [
      "Guido van Rossum\n\n返回语言列表\nPython \t Guido van Rossum\nPerl \t Larry Wall\nTcl \t John Ousterhout\n"
     ]
    }
   ],
   "source": [
    "# 语言表\n",
    "table = {\n",
    "    'Python': 'Guido van Rossum',\n",
    "    'Perl': 'Larry Wall',\n",
    "    'Tcl': 'John Ousterhout'}\n",
    "\n",
    "language = 'Python'\n",
    "creator = table[language]\n",
    "print(creator)\n",
    "\n",
    "print('\\n' + '返回语言列表')\n",
    "for lang in table:\n",
    "    print(lang, '\\t', table[lang])"
   ]
  },
  {
   "cell_type": "code",
   "execution_count": 34,
   "metadata": {},
   "outputs": [
    {
     "output_type": "stream",
     "name": "stdout",
     "text": [
      "\nPart1\n88\n\nPart2\n{(2, 3, 4): 88, (7, 8, 9): 99}\n\nPart3\n"
     ]
    },
    {
     "output_type": "error",
     "ename": "KeyError",
     "evalue": "(2, 3, 6)",
     "traceback": [
      "\u001b[0;31m---------------------------------------------------------------------------\u001b[0m",
      "\u001b[0;31mKeyError\u001b[0m                                  Traceback (most recent call last)",
      "\u001b[0;32m<ipython-input-34-bf3bd6149761>\u001b[0m in \u001b[0;36m<module>\u001b[0;34m\u001b[0m\n\u001b[1;32m     13\u001b[0m \u001b[0;34m\u001b[0m\u001b[0m\n\u001b[1;32m     14\u001b[0m \u001b[0mprint\u001b[0m\u001b[0;34m(\u001b[0m\u001b[0;34m'\\n'\u001b[0m \u001b[0;34m+\u001b[0m \u001b[0;34m'Part3'\u001b[0m\u001b[0;34m)\u001b[0m\u001b[0;34m\u001b[0m\u001b[0;34m\u001b[0m\u001b[0m\n\u001b[0;32m---> 15\u001b[0;31m \u001b[0mprint\u001b[0m\u001b[0;34m(\u001b[0m\u001b[0mMartrix\u001b[0m\u001b[0;34m[\u001b[0m\u001b[0;34m(\u001b[0m\u001b[0;36m2\u001b[0m\u001b[0;34m,\u001b[0m \u001b[0;36m3\u001b[0m\u001b[0;34m,\u001b[0m \u001b[0;36m6\u001b[0m\u001b[0;34m)\u001b[0m\u001b[0;34m]\u001b[0m\u001b[0;34m)\u001b[0m\u001b[0;34m\u001b[0m\u001b[0;34m\u001b[0m\u001b[0m\n\u001b[0m",
      "\u001b[0;31mKeyError\u001b[0m: (2, 3, 6)"
     ]
    }
   ],
   "source": [
    "# 稀疏数据结构\n",
    "Martrix = {}\n",
    "Martrix[(2, 3, 4)] = 88\n",
    "Martrix[(7, 8, 9)] = 99\n",
    "\n",
    "x = 2; y = 3; z = 4\n",
    "\n",
    "print('\\n' + 'Part1')\n",
    "print(Martrix[(x, y, z)])\n",
    "\n",
    "print('\\n' + 'Part2')\n",
    "print(Martrix)\n",
    "\n",
    "print('\\n' + 'Part3')\n",
    "print(Martrix[(2, 3, 6)])"
   ]
  },
  {
   "cell_type": "code",
   "execution_count": 38,
   "metadata": {},
   "outputs": [
    {
     "output_type": "stream",
     "name": "stdout",
     "text": [
      "\nif..else..\n0\n\ntry..except..\n0\n\ndict.get\n0\n"
     ]
    }
   ],
   "source": [
    "# 避免 missing-key 错误\n",
    "Martrix[(2, 3, 4)] = 88\n",
    "\n",
    "# if..else..\n",
    "if (2, 3, 6) in Martrix:\n",
    "    print(Martrix(2, 3, 6))\n",
    "else:\n",
    "    print('\\n' + 'if..else..')\n",
    "    print(0)\n",
    "\n",
    "# try..expect\n",
    "try:\n",
    "    print(Martrix[(2, 3, 6)])\n",
    "except KeyError:\n",
    "    print('\\n' + 'try..except..')\n",
    "    print(0)\n",
    "\n",
    "# get\n",
    "print('\\n' + 'dict.get')\n",
    "print(Martrix.get((2,3,6), 0))"
   ]
  },
  {
   "cell_type": "code",
   "execution_count": 45,
   "metadata": {},
   "outputs": [
    {
     "output_type": "stream",
     "name": "stdout",
     "text": [
      "直接创建\n{'name': 'mel', 'age': 45}\n{'name': 'mel', 'age': 45}\n{'name': 'mel', 'age': 45}\n{'name': 'mel', 'age': 45}\n"
     ]
    }
   ],
   "source": [
    "# 创建字典的各种方法\n",
    "\n",
    "dict1 = {'name': 'mel', 'age': 45}\n",
    "print(dict1)\n",
    "\n",
    "dict2 = {}\n",
    "dict2['name'] = 'mel'\n",
    "dict2['age'] = 45\n",
    "print(dict2)\n",
    "\n",
    "dict3 = dict(name='mel', age=45)\n",
    "print(dict3)\n",
    "\n",
    "dict4 = dict([('name', 'mel'), ('age', 45)])\n",
    "print(dict4)\n",
    "\n"
   ]
  },
  {
   "cell_type": "code",
   "execution_count": 46,
   "metadata": {},
   "outputs": [
    {
     "output_type": "stream",
     "name": "stdout",
     "text": [
      "{'a': 1, 'b': 2, 'c': 3}\n"
     ]
    }
   ],
   "source": [
    "# 字典解析\n",
    "D = {k: v for (k, v) in zip(['a', 'b', 'c'], [1, 2, 3])}\n",
    "print(D)"
   ]
  },
  {
   "cell_type": "code",
   "execution_count": 47,
   "metadata": {},
   "outputs": [
    {
     "output_type": "stream",
     "name": "stdout",
     "text": [
      "{1: 1, 2: 4, 3: 9, 4: 16}\n"
     ]
    }
   ],
   "source": [
    "# 字典解析\n",
    "D = {x: x ** 2 for x in [1, 2, 3, 4]}\n",
    "print(D)"
   ]
  },
  {
   "cell_type": "code",
   "execution_count": 48,
   "metadata": {},
   "outputs": [
    {
     "output_type": "stream",
     "name": "stdout",
     "text": [
      "{'S': 'SSSS', 'P': 'PPPP', 'A': 'AAAA', 'M': 'MMMM'}\n"
     ]
    }
   ],
   "source": [
    "# 字典解析\n",
    "D = {c: c * 4 for c in 'SPAM'}\n",
    "print(D)"
   ]
  },
  {
   "cell_type": "code",
   "execution_count": 49,
   "metadata": {},
   "outputs": [
    {
     "output_type": "stream",
     "name": "stdout",
     "text": [
      "{'spam': 'SPAM!', 'eggs': 'EGGS!', 'ham': 'HAM!'}\n"
     ]
    }
   ],
   "source": [
    "# 字典解析\n",
    "D = {c.lower(): c + '!' for c in ['SPAM', 'EGGS', 'HAM']}\n",
    "print(D)"
   ]
  },
  {
   "cell_type": "code",
   "execution_count": 50,
   "metadata": {},
   "outputs": [
    {
     "output_type": "execute_result",
     "data": {
      "text/plain": [
       "{'a': 0, 'b': 0, 'c': 0}"
      ]
     },
     "metadata": {},
     "execution_count": 50
    }
   ],
   "source": [
    "# fromkeys()\n",
    "D = dict.fromkeys(['a', 'b', 'c'], 0)\n",
    "D"
   ]
  },
  {
   "cell_type": "code",
   "execution_count": 51,
   "metadata": {},
   "outputs": [
    {
     "output_type": "execute_result",
     "data": {
      "text/plain": [
       "{'a': 0, 'b': 0, 'c': 0}"
      ]
     },
     "metadata": {},
     "execution_count": 51
    }
   ],
   "source": [
    "# fromkeys()\n",
    "D = {k:0 for k in ['a', 'b', 'c']}\n",
    "D"
   ]
  },
  {
   "cell_type": "code",
   "execution_count": 52,
   "metadata": {},
   "outputs": [
    {
     "output_type": "execute_result",
     "data": {
      "text/plain": [
       "{'s': None, 'p': None, 'a': None, 'm': None}"
      ]
     },
     "metadata": {},
     "execution_count": 52
    }
   ],
   "source": [
    "# fromkeys()\n",
    "D = dict.fromkeys('spam')\n",
    "D"
   ]
  },
  {
   "cell_type": "code",
   "execution_count": 53,
   "metadata": {},
   "outputs": [
    {
     "output_type": "execute_result",
     "data": {
      "text/plain": [
       "{'s': None, 'p': None, 'a': None, 'm': None}"
      ]
     },
     "metadata": {},
     "execution_count": 53
    }
   ],
   "source": [
    "# fromkeys()\n",
    "D = {k: None for k in 'spam'}\n",
    "D"
   ]
  },
  {
   "cell_type": "code",
   "execution_count": 70,
   "metadata": {},
   "outputs": [
    {
     "output_type": "stream",
     "name": "stdout",
     "text": [
      "\nlist(K):\n\n运行后结果如下\n['a', 'b', 'c']\n[1, 2, 3]\n\ndelete 后结果如下\n['a', 'c']\n[1, 3]\n"
     ]
    }
   ],
   "source": [
    "# 字典视图\n",
    "D = dict(a=1, b=2, c=3)\n",
    "\n",
    "K = D.keys()\n",
    "V = D.values()\n",
    "\n",
    "print('\\n' + 'list(K):')\n",
    "print('\\n' + '运行后结果如下')\n",
    "print(list(K))\n",
    "print(list(V))\n",
    "\n",
    "print('\\n' + 'delete 后结果如下')\n",
    "del D['b']\n",
    "print(list(K))\n",
    "print(list(V))\n",
    "\n"
   ]
  },
  {
   "cell_type": "code",
   "execution_count": 79,
   "metadata": {},
   "outputs": [
    {
     "output_type": "stream",
     "name": "stdout",
     "text": [
      "\n|:\n{'b', 'a', 'x', 'c'}\n\n&:\n"
     ]
    },
    {
     "output_type": "error",
     "ename": "TypeError",
     "evalue": "unsupported operand type(s) for &: 'dict_values' and 'dict'",
     "traceback": [
      "\u001b[0;31m---------------------------------------------------------------------------\u001b[0m",
      "\u001b[0;31mTypeError\u001b[0m                                 Traceback (most recent call last)",
      "\u001b[0;32m<ipython-input-79-f0661bc341f8>\u001b[0m in \u001b[0;36m<module>\u001b[0;34m\u001b[0m\n\u001b[1;32m      9\u001b[0m \u001b[0;34m\u001b[0m\u001b[0m\n\u001b[1;32m     10\u001b[0m \u001b[0mprint\u001b[0m\u001b[0;34m(\u001b[0m\u001b[0;34m'\\n'\u001b[0m \u001b[0;34m+\u001b[0m \u001b[0;34m'&:'\u001b[0m\u001b[0;34m)\u001b[0m\u001b[0;34m\u001b[0m\u001b[0;34m\u001b[0m\u001b[0m\n\u001b[0;32m---> 11\u001b[0;31m \u001b[0mprint\u001b[0m\u001b[0;34m(\u001b[0m\u001b[0mV\u001b[0m \u001b[0;34m&\u001b[0m \u001b[0;34m{\u001b[0m\u001b[0;34m'x'\u001b[0m\u001b[0;34m:\u001b[0m \u001b[0;36m4\u001b[0m\u001b[0;34m}\u001b[0m\u001b[0;34m)\u001b[0m\u001b[0;34m\u001b[0m\u001b[0;34m\u001b[0m\u001b[0m\n\u001b[0m\u001b[1;32m     12\u001b[0m \u001b[0;34m\u001b[0m\u001b[0m\n\u001b[1;32m     13\u001b[0m \u001b[0mprint\u001b[0m\u001b[0;34m(\u001b[0m\u001b[0;34m'\\n'\u001b[0m \u001b[0;34m+\u001b[0m \u001b[0;34m'&values'\u001b[0m\u001b[0;34m)\u001b[0m\u001b[0;34m\u001b[0m\u001b[0;34m\u001b[0m\u001b[0m\n",
      "\u001b[0;31mTypeError\u001b[0m: unsupported operand type(s) for &: 'dict_values' and 'dict'"
     ]
    }
   ],
   "source": [
    "# 字典视图与几何\n",
    "D = dict(a=1, b=2, c=3)\n",
    "\n",
    "K = D.keys()\n",
    "V = D.values()\n",
    "\n",
    "print('\\n' + '|:')\n",
    "print(K | {'x': 4})\n",
    "\n",
    "print('\\n' + '&:')\n",
    "print(V & {'x': 4})\n",
    "\n",
    "print('\\n' + '&values')\n",
    "print(V & {'x': 4}.values())"
   ]
  },
  {
   "cell_type": "code",
   "execution_count": 82,
   "metadata": {},
   "outputs": [
    {
     "output_type": "stream",
     "name": "stdout",
     "text": [
      "{'b', 'a', 'c'}\n{'b'}\n{'b', 'c'}\n"
     ]
    }
   ],
   "source": [
    "# 字典视图与集合\n",
    "D = dict(a=1, b=2, c=3)\n",
    "\n",
    "print(D.keys() & D.keys())\n",
    "\n",
    "print(D.keys() & {'b'})\n",
    "\n",
    "print(D.keys() & {'b', 'c', 'd'})"
   ]
  },
  {
   "cell_type": "code",
   "execution_count": 89,
   "metadata": {},
   "outputs": [
    {
     "output_type": "stream",
     "name": "stdout",
     "text": [
      "[('a', 1)]\n{'a', ('a', 1)}\n{'a', ('a', 1)}\n{('d', 4), ('c', 3), ('a', 1)}\nset()\n"
     ]
    },
    {
     "output_type": "execute_result",
     "data": {
      "text/plain": [
       "{'d': 4, 'c': 3, 'a': 1}"
      ]
     },
     "metadata": {},
     "execution_count": 89
    }
   ],
   "source": [
    "# 字典视图与集合\n",
    "D = {'a': 1}\n",
    "print(list(D.items()))\n",
    "\n",
    "print(D.items() | D.keys())\n",
    "\n",
    "print(D.items() | D)\n",
    "\n",
    "print(D.items() | {('c', 3), ('d', 4)})\n",
    "\n",
    "print(D.items() & {('c', 3), ('d', 4)})\n",
    "\n",
    "print(dict(D.items() | {('c', 3), ('d', 4)}))"
   ]
  },
  {
   "cell_type": "code",
   "execution_count": 95,
   "metadata": {},
   "outputs": [
    {
     "output_type": "stream",
     "name": "stdout",
     "text": [
      "a 1\nc 3\nd 2\na 1\nc 3\nd 2\n"
     ]
    }
   ],
   "source": [
    "# 排序字典键\n",
    "D = {'a': 1, 'd': 2, 'c': 3}\n",
    "ks = D.keys()\n",
    "\n",
    "for k in sorted(ks):\n",
    "    print(k, D[k])\n",
    "\n",
    "for k in sorted(D):\n",
    "    print(k, D[k])"
   ]
  },
  {
   "cell_type": "code",
   "execution_count": null,
   "metadata": {},
   "outputs": [],
   "source": []
  }
 ]
}