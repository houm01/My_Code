{
 "metadata": {
  "language_info": {
   "codemirror_mode": {
    "name": "ipython",
    "version": 3
   },
   "file_extension": ".py",
   "mimetype": "text/x-python",
   "name": "python",
   "nbconvert_exporter": "python",
   "pygments_lexer": "ipython3",
   "version": "3.8.6-final"
  },
  "orig_nbformat": 2,
  "kernelspec": {
   "name": "python3",
   "display_name": "Python 3",
   "language": "python"
  }
 },
 "nbformat": 4,
 "nbformat_minor": 2,
 "cells": [
  {
   "source": [
    "D = {'eggs': 3, 'ham': 1, 'span': 2}\n",
    "\n",
    "# 原处修改字典\n",
    "D['ham'] = ['grill', 'bake', 'fry']\n",
    "print('原处修改字典')\n",
    "print(D)\n",
    "\n",
    "# 删除字典的元素\n",
    "del D['eggs']\n",
    "print('\\n' + '删除字典的元素')\n",
    "print(D)"
   ],
   "cell_type": "code",
   "metadata": {},
   "execution_count": 15,
   "outputs": [
    {
     "output_type": "stream",
     "name": "stdout",
     "text": [
      "原处修改字典\n{'eggs': 3, 'ham': ['grill', 'bake', 'fry'], 'span': 2}\n\n删除字典的元素\n{'ham': ['grill', 'bake', 'fry'], 'span': 2}\n"
     ]
    }
   ]
  },
  {
   "cell_type": "code",
   "execution_count": 19,
   "metadata": {},
   "outputs": [
    {
     "output_type": "stream",
     "name": "stdout",
     "text": [
      "返回所有value\n[3, 1, 2]\n\nitems方法，返回字典的值列表和 key value 元组\n[('eggs', 3), ('ham', 1), ('span', 2)]\n"
     ]
    }
   ],
   "source": [
    "D = {'eggs': 3, 'ham': 1, 'span': 2}\n",
    "\n",
    "print('返回所有value')\n",
    "print(list(D.values()))\n",
    "\n",
    "print('\\n' + 'items方法，返回字典的值列表和 key value 元组')\n",
    "print(list(D.items()))"
   ]
  },
  {
   "cell_type": "code",
   "execution_count": null,
   "metadata": {},
   "outputs": [],
   "source": []
  }
 ]
}