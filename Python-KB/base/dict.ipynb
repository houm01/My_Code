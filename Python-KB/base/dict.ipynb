{
 "metadata": {
  "language_info": {
   "codemirror_mode": {
    "name": "ipython",
    "version": 3
   },
   "file_extension": ".py",
   "mimetype": "text/x-python",
   "name": "python",
   "nbconvert_exporter": "python",
   "pygments_lexer": "ipython3",
   "version": "3.8.6-final"
  },
  "orig_nbformat": 2,
  "kernelspec": {
   "name": "python3",
   "display_name": "Python 3",
   "language": "python"
  }
 },
 "nbformat": 4,
 "nbformat_minor": 2,
 "cells": [
  {
   "source": [
    "# 修改与del\n",
    "D = {'eggs': 3, 'ham': 1, 'span': 2}\n",
    "\n",
    "# 原处修改字典\n",
    "D['ham'] = ['grill', 'bake', 'fry']\n",
    "print('原处修改字典')\n",
    "print(D)\n",
    "\n",
    "# 删除字典的元素\n",
    "del D['eggs']\n",
    "print('\\n' + '删除字典的元素')\n",
    "print(D)"
   ],
   "cell_type": "code",
   "metadata": {},
   "execution_count": 15,
   "outputs": [
    {
     "output_type": "stream",
     "name": "stdout",
     "text": [
      "原处修改字典\n{'eggs': 3, 'ham': ['grill', 'bake', 'fry'], 'span': 2}\n\n删除字典的元素\n{'ham': ['grill', 'bake', 'fry'], 'span': 2}\n"
     ]
    }
   ]
  },
  {
   "cell_type": "code",
   "execution_count": 19,
   "metadata": {},
   "outputs": [
    {
     "output_type": "stream",
     "name": "stdout",
     "text": [
      "返回所有value\n[3, 1, 2]\n\nitems方法，返回字典的值列表和 key value 元组\n[('eggs', 3), ('ham', 1), ('span', 2)]\n"
     ]
    }
   ],
   "source": [
    "# items + value\n",
    "D = {'eggs': 3, 'ham': 1, 'span': 2}\n",
    "\n",
    "print('返回所有value')\n",
    "print(list(D.values()))\n",
    "\n",
    "print('\\n' + 'items方法，返回字典的值列表和 key value 元组')\n",
    "print(list(D.items()))"
   ]
  },
  {
   "cell_type": "code",
   "execution_count": 22,
   "metadata": {},
   "outputs": [
    {
     "output_type": "stream",
     "name": "stdout",
     "text": [
      "3\n\n获取不存在的值\nNone\n\n获取不存在的值，但是填写默认value\ndefault key\n"
     ]
    }
   ],
   "source": [
    "# get 方法\n",
    "D = {'eggs': 3, 'ham': 1, 'span': 2}\n",
    "\n",
    "print(D.get('eggs'))\n",
    "\n",
    "print('\\n' + '获取不存在的值')\n",
    "print(D.get('test'))\n",
    "\n",
    "print('\\n' + '获取不存在的值，但是填写默认value')\n",
    "print(D.get('demo', 'default key'))\n"
   ]
  },
  {
   "cell_type": "code",
   "execution_count": 23,
   "metadata": {},
   "outputs": [
    {
     "output_type": "execute_result",
     "data": {
      "text/plain": [
       "{'eggs': 3, 'ham': 1, 'span': 2, 'toast': 4, 'muffin': 5}"
      ]
     },
     "metadata": {},
     "execution_count": 23
    }
   ],
   "source": [
    "# update 方法\n",
    "\n",
    "D = {'eggs': 3, 'ham': 1, 'span': 2}\n",
    "D2 = {'toast': 4, 'muffin': 5}\n",
    "\n",
    "D.update(D2)\n",
    "\n",
    "D"
   ]
  },
  {
   "cell_type": "code",
   "execution_count": 24,
   "metadata": {},
   "outputs": [
    {
     "output_type": "execute_result",
     "data": {
      "text/plain": [
       "{'ham': 1, 'span': 2}"
      ]
     },
     "metadata": {},
     "execution_count": 24
    }
   ],
   "source": [
    "# pop\n",
    "D = {'eggs': 3, 'ham': 1, 'span': 2}\n",
    "D.pop('eggs')\n",
    "D"
   ]
  },
  {
   "cell_type": "code",
   "execution_count": 27,
   "metadata": {},
   "outputs": [
    {
     "output_type": "stream",
     "name": "stdout",
     "text": [
      "Guido van Rossum\n\n返回语言列表\nPython \t Guido van Rossum\nPerl \t Larry Wall\nTcl \t John Ousterhout\n"
     ]
    }
   ],
   "source": [
    "# 语言表\n",
    "table = {\n",
    "    'Python': 'Guido van Rossum',\n",
    "    'Perl': 'Larry Wall',\n",
    "    'Tcl': 'John Ousterhout'}\n",
    "\n",
    "language = 'Python'\n",
    "creator = table[language]\n",
    "print(creator)\n",
    "\n",
    "print('\\n' + '返回语言列表')\n",
    "for lang in table:\n",
    "    print(lang, '\\t', table[lang])"
   ]
  },
  {
   "cell_type": "code",
   "execution_count": 34,
   "metadata": {},
   "outputs": [
    {
     "output_type": "stream",
     "name": "stdout",
     "text": [
      "\nPart1\n88\n\nPart2\n{(2, 3, 4): 88, (7, 8, 9): 99}\n\nPart3\n"
     ]
    },
    {
     "output_type": "error",
     "ename": "KeyError",
     "evalue": "(2, 3, 6)",
     "traceback": [
      "\u001b[0;31m---------------------------------------------------------------------------\u001b[0m",
      "\u001b[0;31mKeyError\u001b[0m                                  Traceback (most recent call last)",
      "\u001b[0;32m<ipython-input-34-bf3bd6149761>\u001b[0m in \u001b[0;36m<module>\u001b[0;34m\u001b[0m\n\u001b[1;32m     13\u001b[0m \u001b[0;34m\u001b[0m\u001b[0m\n\u001b[1;32m     14\u001b[0m \u001b[0mprint\u001b[0m\u001b[0;34m(\u001b[0m\u001b[0;34m'\\n'\u001b[0m \u001b[0;34m+\u001b[0m \u001b[0;34m'Part3'\u001b[0m\u001b[0;34m)\u001b[0m\u001b[0;34m\u001b[0m\u001b[0;34m\u001b[0m\u001b[0m\n\u001b[0;32m---> 15\u001b[0;31m \u001b[0mprint\u001b[0m\u001b[0;34m(\u001b[0m\u001b[0mMartrix\u001b[0m\u001b[0;34m[\u001b[0m\u001b[0;34m(\u001b[0m\u001b[0;36m2\u001b[0m\u001b[0;34m,\u001b[0m \u001b[0;36m3\u001b[0m\u001b[0;34m,\u001b[0m \u001b[0;36m6\u001b[0m\u001b[0;34m)\u001b[0m\u001b[0;34m]\u001b[0m\u001b[0;34m)\u001b[0m\u001b[0;34m\u001b[0m\u001b[0;34m\u001b[0m\u001b[0m\n\u001b[0m",
      "\u001b[0;31mKeyError\u001b[0m: (2, 3, 6)"
     ]
    }
   ],
   "source": [
    "# 稀疏数据结构\n",
    "Martrix = {}\n",
    "Martrix[(2, 3, 4)] = 88\n",
    "Martrix[(7, 8, 9)] = 99\n",
    "\n",
    "x = 2; y = 3; z = 4\n",
    "\n",
    "print('\\n' + 'Part1')\n",
    "print(Martrix[(x, y, z)])\n",
    "\n",
    "print('\\n' + 'Part2')\n",
    "print(Martrix)\n",
    "\n",
    "print('\\n' + 'Part3')\n",
    "print(Martrix[(2, 3, 6)])"
   ]
  },
  {
   "cell_type": "code",
   "execution_count": 38,
   "metadata": {},
   "outputs": [
    {
     "output_type": "stream",
     "name": "stdout",
     "text": [
      "\nif..else..\n0\n\ntry..except..\n0\n\ndict.get\n0\n"
     ]
    }
   ],
   "source": [
    "# 避免 missing-key 错误\n",
    "Martrix[(2, 3, 4)] = 88\n",
    "\n",
    "# if..else..\n",
    "if (2, 3, 6) in Martrix:\n",
    "    print(Martrix(2, 3, 6))\n",
    "else:\n",
    "    print('\\n' + 'if..else..')\n",
    "    print(0)\n",
    "\n",
    "# try..expect\n",
    "try:\n",
    "    print(Martrix[(2, 3, 6)])\n",
    "except KeyError:\n",
    "    print('\\n' + 'try..except..')\n",
    "    print(0)\n",
    "\n",
    "# get\n",
    "print('\\n' + 'dict.get')\n",
    "print(Martrix.get((2,3,6), 0))"
   ]
  },
  {
   "cell_type": "code",
   "execution_count": 45,
   "metadata": {},
   "outputs": [
    {
     "output_type": "stream",
     "name": "stdout",
     "text": [
      "直接创建\n{'name': 'mel', 'age': 45}\n{'name': 'mel', 'age': 45}\n{'name': 'mel', 'age': 45}\n{'name': 'mel', 'age': 45}\n"
     ]
    }
   ],
   "source": [
    "# 创建字典的各种方法\n",
    "\n",
    "dict1 = {'name': 'mel', 'age': 45}\n",
    "print(dict1)\n",
    "\n",
    "dict2 = {}\n",
    "dict2['name'] = 'mel'\n",
    "dict2['age'] = 45\n",
    "print(dict2)\n",
    "\n",
    "dict3 = dict(name='mel', age=45)\n",
    "print(dict3)\n",
    "\n",
    "dict4 = dict([('name', 'mel'), ('age', 45)])\n",
    "print(dict4)\n",
    "\n"
   ]
  },
  {
   "cell_type": "code",
   "execution_count": null,
   "metadata": {},
   "outputs": [],
   "source": [
    "# 字典解析\n"
   ]
  }
 ]
}