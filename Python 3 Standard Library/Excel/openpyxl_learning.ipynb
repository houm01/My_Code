{
 "cells": [
  {
   "cell_type": "code",
   "execution_count": 1,
   "metadata": {
    "collapsed": true
   },
   "outputs": [
    {
     "name": "stdout",
     "output_type": "stream",
     "text": [
      "['MySheet1', 'New title', 'MySheet2', 'MySheet']\n",
      "MySheet1\n",
      "New title\n",
      "MySheet2\n",
      "MySheet\n"
     ]
    }
   ],
   "source": [
    "from openpyxl import Workbook\n",
    "\n",
    "wb = Workbook()\n",
    "ws = wb.active\n",
    "\n",
    "ws1 = wb.create_sheet(\"MySheet\")\n",
    "ws2 = wb.create_sheet(\"MySheet\", 0)\n",
    "ws3 = wb.create_sheet(\"MySheet\", -1)\n",
    "\n",
    "ws.title = \"New title\"\n",
    "ws.sheet_properties.tabColor = \"1072BA\"\n",
    "\n",
    "ws3 = wb[\"New title\"]\n",
    "\n",
    "print(wb.sheetnames)\n",
    "\n",
    "for sheet in wb:\n",
    "    print(sheet.title)"
   ]
  }
 ],
 "metadata": {
  "kernelspec": {
   "display_name": "Python 3",
   "language": "python",
   "name": "python3"
  },
  "language_info": {
   "codemirror_mode": {
    "name": "ipython",
    "version": 2
   },
   "file_extension": ".py",
   "mimetype": "text/x-python",
   "name": "python",
   "nbconvert_exporter": "python",
   "pygments_lexer": "ipython2",
   "version": "2.7.6"
  }
 },
 "nbformat": 4,
 "nbformat_minor": 0
}